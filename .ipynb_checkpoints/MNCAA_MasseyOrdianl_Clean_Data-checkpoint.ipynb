{
 "cells": [
  {
   "cell_type": "code",
   "execution_count": 1,
   "id": "f2d0cb2e",
   "metadata": {},
   "outputs": [],
   "source": [
    "import pandas as pd"
   ]
  },
  {
   "cell_type": "code",
   "execution_count": 2,
   "id": "d24d4b7e",
   "metadata": {},
   "outputs": [],
   "source": [
    "data_file_path = '/Users/lynnpowell/Documents/DS_Projects/Mens NCAA_Basketball_Data/MDataFiles_Stage2/'\n",
    "df_massey = pd.read_csv(data_file_path+'MMasseyOrdinals.csv')"
   ]
  },
  {
   "cell_type": "code",
   "execution_count": 3,
   "id": "8a829a1b",
   "metadata": {},
   "outputs": [],
   "source": [
    "df_copy = df_massey.copy()"
   ]
  },
  {
   "cell_type": "code",
   "execution_count": 26,
   "id": "31fccc4a",
   "metadata": {},
   "outputs": [
    {
     "data": {
      "text/html": [
       "<div>\n",
       "<style scoped>\n",
       "    .dataframe tbody tr th:only-of-type {\n",
       "        vertical-align: middle;\n",
       "    }\n",
       "\n",
       "    .dataframe tbody tr th {\n",
       "        vertical-align: top;\n",
       "    }\n",
       "\n",
       "    .dataframe thead th {\n",
       "        text-align: right;\n",
       "    }\n",
       "</style>\n",
       "<table border=\"1\" class=\"dataframe\">\n",
       "  <thead>\n",
       "    <tr style=\"text-align: right;\">\n",
       "      <th></th>\n",
       "      <th>Season</th>\n",
       "      <th>RankingDayNum</th>\n",
       "      <th>SystemName</th>\n",
       "      <th>TeamID</th>\n",
       "      <th>OrdinalRank</th>\n",
       "    </tr>\n",
       "  </thead>\n",
       "  <tbody>\n",
       "    <tr>\n",
       "      <th>121021</th>\n",
       "      <td>2003</td>\n",
       "      <td>133</td>\n",
       "      <td>AP</td>\n",
       "      <td>1112</td>\n",
       "      <td>2</td>\n",
       "    </tr>\n",
       "    <tr>\n",
       "      <th>121022</th>\n",
       "      <td>2003</td>\n",
       "      <td>133</td>\n",
       "      <td>AP</td>\n",
       "      <td>1163</td>\n",
       "      <td>23</td>\n",
       "    </tr>\n",
       "    <tr>\n",
       "      <th>121023</th>\n",
       "      <td>2003</td>\n",
       "      <td>133</td>\n",
       "      <td>AP</td>\n",
       "      <td>1166</td>\n",
       "      <td>15</td>\n",
       "    </tr>\n",
       "    <tr>\n",
       "      <th>121024</th>\n",
       "      <td>2003</td>\n",
       "      <td>133</td>\n",
       "      <td>AP</td>\n",
       "      <td>1173</td>\n",
       "      <td>16</td>\n",
       "    </tr>\n",
       "    <tr>\n",
       "      <th>121025</th>\n",
       "      <td>2003</td>\n",
       "      <td>133</td>\n",
       "      <td>AP</td>\n",
       "      <td>1181</td>\n",
       "      <td>7</td>\n",
       "    </tr>\n",
       "  </tbody>\n",
       "</table>\n",
       "</div>"
      ],
      "text/plain": [
       "        Season  RankingDayNum SystemName  TeamID  OrdinalRank\n",
       "121021    2003            133         AP    1112            2\n",
       "121022    2003            133         AP    1163           23\n",
       "121023    2003            133         AP    1166           15\n",
       "121024    2003            133         AP    1173           16\n",
       "121025    2003            133         AP    1181            7"
      ]
     },
     "execution_count": 26,
     "metadata": {},
     "output_type": "execute_result"
    }
   ],
   "source": [
    "df = df_copy[df_copy['RankingDayNum'] == 133]\n",
    "df.head()"
   ]
  },
  {
   "cell_type": "code",
   "execution_count": 28,
   "id": "52bbf20e",
   "metadata": {},
   "outputs": [
    {
     "data": {
      "text/plain": [
       "(291433, 5)"
      ]
     },
     "execution_count": 28,
     "metadata": {},
     "output_type": "execute_result"
    }
   ],
   "source": [
    "df.shape"
   ]
  },
  {
   "cell_type": "code",
   "execution_count": 18,
   "id": "e8c4acad",
   "metadata": {},
   "outputs": [
    {
     "data": {
      "text/plain": [
       "MOR    5833\n",
       "WOL    5833\n",
       "SAG    5833\n",
       "RTH    5833\n",
       "POM    5830\n",
       "WLK    5830\n",
       "DOL    5829\n",
       "COL    5828\n",
       "CNG    5503\n",
       "BIH    5486\n",
       "WOB    5479\n",
       "RPI    5473\n",
       "SEL    5145\n",
       "DOK    4850\n",
       "WIL    4845\n",
       "PIG    4843\n",
       "BOB    4778\n",
       "DUN    4475\n",
       "MAS    4475\n",
       "DC     4470\n",
       "Name: SystemName, dtype: int64"
      ]
     },
     "execution_count": 18,
     "metadata": {},
     "output_type": "execute_result"
    }
   ],
   "source": [
    "df['SystemName'].value_counts().head(20)"
   ]
  },
  {
   "cell_type": "code",
   "execution_count": 14,
   "id": "d02f4770",
   "metadata": {},
   "outputs": [
    {
     "data": {
      "text/plain": [
       "array(['AP', 'ARG', 'BIH', 'BOB', 'BRZ', 'COL', 'DOL', 'DUN', 'DWH',\n",
       "       'ECK', 'ENT', 'ERD', 'GRN', 'GRS', 'HER', 'HOL', 'IMS', 'MAS',\n",
       "       'MKV', 'MOR', 'POM', 'RPI', 'RTH', 'SAG', 'SAU', 'SE', 'SEL',\n",
       "       'STR', 'TSR', 'USA', 'WLK', 'WOB', 'WOL', 'WTE', 'BD', 'CNG',\n",
       "       'DES', 'JON', 'LYN', 'MGY', 'NOR', 'REI', 'RM', 'SIM', 'ACU',\n",
       "       'BCM', 'CMV', 'DC', 'KLK', 'REN', 'RIS', 'ROH', 'SAP', 'SCR',\n",
       "       'WIL', 'DOK', 'JCI', 'KPK', 'MB', 'PH', 'PIG', 'PKL', 'TRX', 'CPR',\n",
       "       'ISR', 'KRA', 'LYD', 'RTR', 'UCS', 'BKM', 'CPA', 'JEN', 'PGH',\n",
       "       'REW', 'RSE', 'SPW', 'STH', 'BPI', 'DC2', 'DCI', 'HKB', 'LMC',\n",
       "       'NOL', 'OMY', 'RTB', 'KEL', 'KMV', 'RT', 'TW', 'AUS', 'KOS', 'PEQ',\n",
       "       'PTS', 'ROG', 'RTP', 'TMR', '7OT', 'ADE', 'BBT', 'BNM', 'BUR',\n",
       "       'CJB', 'CRO', 'EBP', 'HAT', 'MSX', 'SFX', 'TBD', 'BLS', 'D1A',\n",
       "       'DII', 'KBM', 'TPR', 'MvG', 'PPR', 'SP', 'SPR', 'STF', 'STS',\n",
       "       'TRP', 'UPS', 'WMR', 'BWE', 'LOG', 'TRK', 'DAV', 'FAS', 'FSH',\n",
       "       'HAS', 'HRN', 'KPI', 'MCL', 'CRW', 'DDB', 'ESR', 'FMG', 'HKS',\n",
       "       'INP', 'JNG', 'JRT', 'MUZ', 'OCT', 'PMC', 'PRR', 'RSL', 'SGR',\n",
       "       'SMN', 'SMS', 'YAG', 'ZAM', 'BNT', 'COX', 'JJK', 'LAB', 'MMG',\n",
       "       'STM', 'WMV', 'AWS', 'INC', 'LAW', 'LEF', 'MGS', 'NET', 'PIR'],\n",
       "      dtype=object)"
      ]
     },
     "execution_count": 14,
     "metadata": {},
     "output_type": "execute_result"
    }
   ],
   "source": [
    "df['SystemName'].unique()"
   ]
  },
  {
   "cell_type": "code",
   "execution_count": 23,
   "id": "2713ce2a",
   "metadata": {},
   "outputs": [
    {
     "data": {
      "text/html": [
       "<div>\n",
       "<style scoped>\n",
       "    .dataframe tbody tr th:only-of-type {\n",
       "        vertical-align: middle;\n",
       "    }\n",
       "\n",
       "    .dataframe tbody tr th {\n",
       "        vertical-align: top;\n",
       "    }\n",
       "\n",
       "    .dataframe thead th {\n",
       "        text-align: right;\n",
       "    }\n",
       "</style>\n",
       "<table border=\"1\" class=\"dataframe\">\n",
       "  <thead>\n",
       "    <tr style=\"text-align: right;\">\n",
       "      <th></th>\n",
       "      <th>Season</th>\n",
       "      <th>RankingDayNum</th>\n",
       "      <th>SystemName</th>\n",
       "      <th>TeamID</th>\n",
       "      <th>OrdinalRank</th>\n",
       "    </tr>\n",
       "  </thead>\n",
       "  <tbody>\n",
       "    <tr>\n",
       "      <th>127259</th>\n",
       "      <td>2003</td>\n",
       "      <td>133</td>\n",
       "      <td>POM</td>\n",
       "      <td>1102</td>\n",
       "      <td>160</td>\n",
       "    </tr>\n",
       "    <tr>\n",
       "      <th>127260</th>\n",
       "      <td>2003</td>\n",
       "      <td>133</td>\n",
       "      <td>POM</td>\n",
       "      <td>1103</td>\n",
       "      <td>163</td>\n",
       "    </tr>\n",
       "    <tr>\n",
       "      <th>127261</th>\n",
       "      <td>2003</td>\n",
       "      <td>133</td>\n",
       "      <td>POM</td>\n",
       "      <td>1104</td>\n",
       "      <td>33</td>\n",
       "    </tr>\n",
       "    <tr>\n",
       "      <th>127262</th>\n",
       "      <td>2003</td>\n",
       "      <td>133</td>\n",
       "      <td>POM</td>\n",
       "      <td>1105</td>\n",
       "      <td>307</td>\n",
       "    </tr>\n",
       "    <tr>\n",
       "      <th>127263</th>\n",
       "      <td>2003</td>\n",
       "      <td>133</td>\n",
       "      <td>POM</td>\n",
       "      <td>1106</td>\n",
       "      <td>263</td>\n",
       "    </tr>\n",
       "  </tbody>\n",
       "</table>\n",
       "</div>"
      ],
      "text/plain": [
       "        Season  RankingDayNum SystemName  TeamID  OrdinalRank\n",
       "127259    2003            133        POM    1102          160\n",
       "127260    2003            133        POM    1103          163\n",
       "127261    2003            133        POM    1104           33\n",
       "127262    2003            133        POM    1105          307\n",
       "127263    2003            133        POM    1106          263"
      ]
     },
     "execution_count": 23,
     "metadata": {},
     "output_type": "execute_result"
    }
   ],
   "source": [
    "#Using CNG and POM\n",
    "df_massey = df[(df['SystemName'] == 'CNG') | (df['SystemName'] == 'POM')]\n",
    "df_massey.head()"
   ]
  },
  {
   "cell_type": "code",
   "execution_count": 24,
   "id": "a3e0e68d",
   "metadata": {},
   "outputs": [
    {
     "data": {
      "text/plain": [
       "POM    5830\n",
       "CNG    5503\n",
       "Name: SystemName, dtype: int64"
      ]
     },
     "execution_count": 24,
     "metadata": {},
     "output_type": "execute_result"
    }
   ],
   "source": [
    "df_massey['SystemName'].value_counts()"
   ]
  },
  {
   "cell_type": "code",
   "execution_count": 29,
   "id": "f41944fe",
   "metadata": {},
   "outputs": [
    {
     "data": {
      "text/plain": [
       "(11333, 5)"
      ]
     },
     "execution_count": 29,
     "metadata": {},
     "output_type": "execute_result"
    }
   ],
   "source": [
    "df_massey.shape"
   ]
  },
  {
   "cell_type": "code",
   "execution_count": 30,
   "id": "b8eabe61",
   "metadata": {},
   "outputs": [],
   "source": [
    "#Save M Massey file with just the System Name of CNG and POM\n",
    "df_massey.to_csv(data_file_path+'MMasseyProdinals_133_CNG_POM.csv', index = False)"
   ]
  },
  {
   "cell_type": "code",
   "execution_count": null,
   "id": "10e51c2b",
   "metadata": {},
   "outputs": [],
   "source": []
  }
 ],
 "metadata": {
  "kernelspec": {
   "display_name": "Python 3 (ipykernel)",
   "language": "python",
   "name": "python3"
  },
  "language_info": {
   "codemirror_mode": {
    "name": "ipython",
    "version": 3
   },
   "file_extension": ".py",
   "mimetype": "text/x-python",
   "name": "python",
   "nbconvert_exporter": "python",
   "pygments_lexer": "ipython3",
   "version": "3.8.13"
  }
 },
 "nbformat": 4,
 "nbformat_minor": 5
}
